{
 "cells": [
  {
   "cell_type": "code",
   "execution_count": 1,
   "id": "c7605ae9",
   "metadata": {},
   "outputs": [],
   "source": [
    "%%capture --no-stderr\n",
    "%pip install --quiet -U langchain_openai langchain_core langgraph"
   ]
  },
  {
   "cell_type": "markdown",
   "id": "d94614c2",
   "metadata": {},
   "source": [
    "# Simple Graph"
   ]
  },
  {
   "cell_type": "code",
   "execution_count": 14,
   "id": "683d2d2d",
   "metadata": {},
   "outputs": [],
   "source": [
    "#Steps:\n",
    "\n",
    "# Imports\n",
    "# declare state\n",
    "# declare nodes\n",
    "\n",
    "# build graph\n",
    "# Add logic\n",
    "# compile the graph\n",
    "\n",
    "# view the graph\n",
    "# Invoke the graph"
   ]
  },
  {
   "cell_type": "code",
   "execution_count": 15,
   "id": "6a7a0a6e",
   "metadata": {},
   "outputs": [],
   "source": [
    "from IPython.display import Image, display\n",
    "from langgraph.graph import StateGraph, START, END"
   ]
  },
  {
   "cell_type": "code",
   "execution_count": 16,
   "id": "8d1444c8",
   "metadata": {},
   "outputs": [],
   "source": [
    "from typing_extensions import TypedDict"
   ]
  },
  {
   "cell_type": "code",
   "execution_count": 17,
   "id": "f06a7d41",
   "metadata": {},
   "outputs": [],
   "source": [
    "class State(TypedDict):\n",
    "    graph_state: str"
   ]
  },
  {
   "cell_type": "code",
   "execution_count": 33,
   "id": "924e621c",
   "metadata": {},
   "outputs": [],
   "source": [
    "def node1(state):\n",
    "    print(f\"-----Node1----\")\n",
    "    return {\"graph_state\":state[\"graph_state\"]+ \"I am \"}\n",
    "\n",
    "def node2(state):\n",
    "    print(f\"-----Node2----\")\n",
    "    return {\"graph_state\":state[\"graph_state\"]+ \"Happy \"}\n",
    "\n",
    "def node3(state):\n",
    "    print(f\"-----Node1----\")\n",
    "    return {\"graph_state\":state[\"graph_state\"]+ \"Sad \"}"
   ]
  },
  {
   "cell_type": "code",
   "execution_count": 34,
   "id": "07e6074c",
   "metadata": {},
   "outputs": [
    {
     "data": {
      "text/plain": [
       "<langgraph.graph.state.StateGraph at 0x1125127d0>"
      ]
     },
     "execution_count": 34,
     "metadata": {},
     "output_type": "execute_result"
    }
   ],
   "source": [
    "builder = StateGraph(State)\n",
    "\n",
    "builder.add_node(\"node1\", node1)\n",
    "builder.add_node(\"node2\", node2)\n",
    "builder.add_node(\"node3\", node3)"
   ]
  },
  {
   "cell_type": "code",
   "execution_count": 35,
   "id": "b1ac80bd",
   "metadata": {},
   "outputs": [
    {
     "data": {
      "text/plain": [
       "<langgraph.graph.state.StateGraph at 0x1125127d0>"
      ]
     },
     "execution_count": 35,
     "metadata": {},
     "output_type": "execute_result"
    }
   ],
   "source": [
    "builder.add_edge(START, \"node1\")\n",
    "builder.add_edge(\"node1\", \"node2\")\n",
    "builder.add_edge(\"node2\", \"node3\")\n",
    "builder.add_edge(\"node3\", END)"
   ]
  },
  {
   "cell_type": "code",
   "execution_count": 36,
   "id": "fb3577ee",
   "metadata": {},
   "outputs": [],
   "source": [
    "graph = builder.compile()"
   ]
  },
  {
   "cell_type": "code",
   "execution_count": 37,
   "id": "5efe1f21",
   "metadata": {},
   "outputs": [
    {
     "data": {
      "image/png": "[encoded data removed]",
      "text/plain": [
       "<langgraph.graph.state.CompiledStateGraph object at 0x11254ee10>"
      ]
     },
     "execution_count": 37,
     "metadata": {},
     "output_type": "execute_result"
    }
   ],
   "source": [
    "graph"
   ]
  },
  {
   "cell_type": "code",
   "execution_count": 38,
   "id": "eb3d7564",
   "metadata": {},
   "outputs": [
    {
     "data": {
      "image/png": "[encoded data removed]",
      "text/plain": [
       "<IPython.core.display.Image object>"
      ]
     },
     "metadata": {},
     "output_type": "display_data"
    }
   ],
   "source": [
    "display(Image(graph.get_graph().draw_mermaid_png()))"
   ]
  },
  {
   "cell_type": "code",
   "execution_count": null,
   "id": "55e57b59",
   "metadata": {},
   "outputs": [],
   "source": []
  },
  {
   "cell_type": "code",
   "execution_count": 39,
   "id": "2617e7a5",
   "metadata": {},
   "outputs": [
    {
     "name": "stdout",
     "output_type": "stream",
     "text": [
      "-----Node1----\n",
      "-----Node2----\n",
      "-----Node1----\n"
     ]
    },
    {
     "data": {
      "text/plain": [
       "{'graph_state': 'Hi, this is Lance.I am Happy Sad '}"
      ]
     },
     "execution_count": 39,
     "metadata": {},
     "output_type": "execute_result"
    }
   ],
   "source": [
    "graph.invoke({\"graph_state\" : \"Hi, this is Lance.\"})"
   ]
  },
  {
   "cell_type": "code",
   "execution_count": null,
   "id": "5b7fb0d0",
   "metadata": {},
   "outputs": [],
   "source": []
  },
  {
   "cell_type": "code",
   "execution_count": null,
   "id": "28c5f119",
   "metadata": {},
   "outputs": [],
   "source": []
  },
  {
   "cell_type": "code",
   "execution_count": null,
   "id": "f193a699",
   "metadata": {},
   "outputs": [],
   "source": []
  },
  {
   "cell_type": "code",
   "execution_count": null,
   "id": "fc4c269a",
   "metadata": {},
   "outputs": [],
   "source": []
  },
  {
   "cell_type": "markdown",
   "id": "cf473f96",
   "metadata": {},
   "source": [
    "# Another Example"
   ]
  },
  {
   "cell_type": "code",
   "execution_count": 40,
   "id": "675b0e73",
   "metadata": {},
   "outputs": [],
   "source": [
    "class SState(TypedDict):\n",
    "    g_state: str\n",
    "    text: str"
   ]
  },
  {
   "cell_type": "code",
   "execution_count": 52,
   "id": "fef7fef0",
   "metadata": {},
   "outputs": [],
   "source": [
    "def nodea(state):\n",
    "    print(f\"-------Nodea------\")\n",
    "    return {\"g_state\": state['g_state'] + \"I am\"}\n",
    "\n",
    "def nodeb(state):\n",
    "    print(f\"-------Nodeb------\")\n",
    "    return {\"g_state\": state['g_state'] + \"Happy\"}\n",
    "\n",
    "\n",
    "def nodec(state):\n",
    "    print(f\"-------Nodec------\")\n",
    "    return {\"g_state\": state['g_state'] + \"Sad\"}\n",
    "\n"
   ]
  },
  {
   "cell_type": "code",
   "execution_count": 53,
   "id": "85d22514",
   "metadata": {},
   "outputs": [],
   "source": [
    "from typing import Literal\n",
    "def deci_take(state)->Literal[\"nodeb\", \"nodec\"]:\n",
    "    \n",
    "    given_text = state['text']\n",
    "    \n",
    "    if given_text == 'Yes':\n",
    "        return \"nodeb\"\n",
    "    else:\n",
    "        return \"nodec\""
   ]
  },
  {
   "cell_type": "code",
   "execution_count": null,
   "id": "ace55831",
   "metadata": {},
   "outputs": [],
   "source": []
  },
  {
   "cell_type": "code",
   "execution_count": 54,
   "id": "55a31369",
   "metadata": {},
   "outputs": [
    {
     "data": {
      "text/plain": [
       "<langgraph.graph.state.StateGraph at 0x112e50250>"
      ]
     },
     "execution_count": 54,
     "metadata": {},
     "output_type": "execute_result"
    }
   ],
   "source": [
    "builder_S = StateGraph(SState)\n",
    "\n",
    "builder_S.add_node(\"nodea\", nodea)\n",
    "builder_S.add_node(\"nodeb\", nodeb)\n",
    "builder_S.add_node(\"nodec\", nodec)\n",
    "\n"
   ]
  },
  {
   "cell_type": "code",
   "execution_count": 55,
   "id": "6a409890",
   "metadata": {},
   "outputs": [
    {
     "data": {
      "text/plain": [
       "<langgraph.graph.state.StateGraph at 0x112e50250>"
      ]
     },
     "execution_count": 55,
     "metadata": {},
     "output_type": "execute_result"
    }
   ],
   "source": [
    "# builder_S.add_edge(START, \"nodea\")\n",
    "# builder_S.add_edge(\"nodea\", \"nodeb\")\n",
    "# builder_S.add_edge(\"nodeb\", \"nodec\")\n",
    "# builder_S.add_edge(\"nodec\", END)\n",
    "\n",
    "\n",
    "builder_S.add_edge(START, \"nodea\")\n",
    "builder_S.add_conditional_edges(\"nodea\", deci_take)\n",
    "#builder_S.add_edge(\"nodea\", \"nodeb\")\n",
    "builder_S.add_edge(\"nodeb\", END)\n",
    "builder_S.add_edge(\"nodec\", END)"
   ]
  },
  {
   "cell_type": "code",
   "execution_count": 56,
   "id": "68d847fb",
   "metadata": {},
   "outputs": [],
   "source": [
    "grp = builder_S.compile()"
   ]
  },
  {
   "cell_type": "code",
   "execution_count": 57,
   "id": "864d40bb",
   "metadata": {},
   "outputs": [
    {
     "data": {
      "image/png": "[encoded data removed]",
      "text/plain": [
       "<langgraph.graph.state.CompiledStateGraph object at 0x112885950>"
      ]
     },
     "execution_count": 57,
     "metadata": {},
     "output_type": "execute_result"
    }
   ],
   "source": [
    "grp"
   ]
  },
  {
   "cell_type": "code",
   "execution_count": 58,
   "id": "45c92c06",
   "metadata": {},
   "outputs": [
    {
     "name": "stdout",
     "output_type": "stream",
     "text": [
      "-------Nodea------\n",
      "-------Nodec------\n"
     ]
    },
    {
     "data": {
      "text/plain": [
       "{'g_state': 'VikkyI amSad', 'text': 'No'}"
      ]
     },
     "execution_count": 58,
     "metadata": {},
     "output_type": "execute_result"
    }
   ],
   "source": [
    "grp.invoke({'g_state': 'Vikky', 'text': 'No'})"
   ]
  },
  {
   "cell_type": "code",
   "execution_count": null,
   "id": "858af030",
   "metadata": {},
   "outputs": [],
   "source": []
  },
  {
   "cell_type": "code",
   "execution_count": null,
   "id": "f98ef3ee",
   "metadata": {},
   "outputs": [],
   "source": []
  },
  {
   "cell_type": "markdown",
   "id": "7f417dfd",
   "metadata": {},
   "source": [
    "# Chain"
   ]
  },
  {
   "cell_type": "code",
   "execution_count": 82,
   "id": "0d88e70d",
   "metadata": {},
   "outputs": [],
   "source": [
    "from langchain_core.messages import AIMessage, HumanMessage, SystemMessage, ToolMessage, AnyMessage\n",
    "from pprint import pprint"
   ]
  },
  {
   "cell_type": "code",
   "execution_count": 60,
   "id": "416d4c9f",
   "metadata": {},
   "outputs": [],
   "source": [
    "messages = [AIMessage(content=f\"So you said you were researching ocean mammals?\", name=\"Model\")]\n",
    "messages.append(HumanMessage(content=f\"Yes, that's right.\",name=\"Lance\"))\n",
    "messages.append(AIMessage(content=f\"Great, what would you like to learn about.\", name=\"Model\"))\n",
    "messages.append(HumanMessage(content=f\"I want to learn about the best place to see Orcas in the US.\", name=\"Lance\"))\n"
   ]
  },
  {
   "cell_type": "code",
   "execution_count": 61,
   "id": "ff38981d",
   "metadata": {},
   "outputs": [
    {
     "data": {
      "text/plain": [
       "[AIMessage(content='So you said you were researching ocean mammals?', additional_kwargs={}, response_metadata={}, name='Model'),\n",
       " HumanMessage(content=\"Yes, that's right.\", additional_kwargs={}, response_metadata={}, name='Lance'),\n",
       " AIMessage(content='Great, what would you like to learn about.', additional_kwargs={}, response_metadata={}, name='Model'),\n",
       " HumanMessage(content='I want to learn about the best place to see Orcas in the US.', additional_kwargs={}, response_metadata={}, name='Lance')]"
      ]
     },
     "execution_count": 61,
     "metadata": {},
     "output_type": "execute_result"
    }
   ],
   "source": [
    "messages"
   ]
  },
  {
   "cell_type": "code",
   "execution_count": 63,
   "id": "d0a28fb9",
   "metadata": {},
   "outputs": [
    {
     "name": "stdout",
     "output_type": "stream",
     "text": [
      "==================================\u001b[1m Ai Message \u001b[0m==================================\n",
      "Name: Model\n",
      "\n",
      "So you said you were researching ocean mammals?\n",
      "================================\u001b[1m Human Message \u001b[0m=================================\n",
      "Name: Lance\n",
      "\n",
      "Yes, that's right.\n",
      "==================================\u001b[1m Ai Message \u001b[0m==================================\n",
      "Name: Model\n",
      "\n",
      "Great, what would you like to learn about.\n",
      "================================\u001b[1m Human Message \u001b[0m=================================\n",
      "Name: Lance\n",
      "\n",
      "I want to learn about the best place to see Orcas in the US.\n"
     ]
    }
   ],
   "source": [
    "for message in messages:\n",
    "    message.pretty_print()"
   ]
  },
  {
   "cell_type": "code",
   "execution_count": 64,
   "id": "ae873f18",
   "metadata": {},
   "outputs": [
    {
     "name": "stdout",
     "output_type": "stream",
     "text": [
      "OPENAI_API_KEY: ········\n"
     ]
    }
   ],
   "source": [
    "import os, getpass\n",
    "\n",
    "def _set_env(var: str):\n",
    "    if not os.environ.get(var):\n",
    "        os.environ[var] = getpass.getpass(f\"{var}: \")\n",
    "\n",
    "_set_env(\"OPENAI_API_KEY\")"
   ]
  },
  {
   "cell_type": "code",
   "execution_count": 65,
   "id": "b0c40d56",
   "metadata": {},
   "outputs": [],
   "source": [
    "from langchain_openai import ChatOpenAI"
   ]
  },
  {
   "cell_type": "code",
   "execution_count": 66,
   "id": "dd7b0d90",
   "metadata": {},
   "outputs": [],
   "source": [
    "llm = ChatOpenAI(model=\"gpt-4o\")\n",
    "result = llm.invoke(messages)"
   ]
  },
  {
   "cell_type": "code",
   "execution_count": 67,
   "id": "f7a64b3c",
   "metadata": {},
   "outputs": [
    {
     "data": {
      "text/plain": [
       "AIMessage(content=\"The Pacific Northwest is one of the best places in the United States to see orcas in the wild. Specifically, the waters around the San Juan Islands in Washington State are renowned for orca watching. The Southern Resident Killer Whales, a well-known group of orcas, frequent this area, especially from late spring to early fall, as they follow the salmon runs through the inland waters.\\n\\nPopular departure points for whale-watching tours include the towns of Friday Harbor on San Juan Island, Anacortes on the mainland, and even Seattle. These tours offer guided experiences where you can often see not just orcas, but also other marine wildlife like humpback whales, minke whales, seals, and sea lions.\\n\\nIf you're interested in learning more about orcas and marine conservation, the Whale Museum in Friday Harbor offers exhibits and information about these magnificent creatures and efforts to protect them.\\n\\nWhen planning a trip, it's good to keep in mind that wildlife viewings are never guaranteed, as orcas are wild animals with vast ocean to explore. However, the local operators are usually quite knowledgeable about where to find them and how to observe them responsibly.\", additional_kwargs={'refusal': None}, response_metadata={'token_usage': {'completion_tokens': 229, 'prompt_tokens': 67, 'total_tokens': 296, 'completion_tokens_details': {'accepted_prediction_tokens': 0, 'audio_tokens': 0, 'reasoning_tokens': 0, 'rejected_prediction_tokens': 0}, 'prompt_tokens_details': {'audio_tokens': 0, 'cached_tokens': 0}}, 'model_name': 'gpt-4o-2024-08-06', 'system_fingerprint': 'fp_eb9dce56a8', 'finish_reason': 'stop', 'logprobs': None}, id='run-42d5f8ec-3b0b-4ac2-97bb-728753fe5a81-0', usage_metadata={'input_tokens': 67, 'output_tokens': 229, 'total_tokens': 296, 'input_token_details': {'audio': 0, 'cache_read': 0}, 'output_token_details': {'audio': 0, 'reasoning': 0}})"
      ]
     },
     "execution_count": 67,
     "metadata": {},
     "output_type": "execute_result"
    }
   ],
   "source": [
    "result"
   ]
  },
  {
   "cell_type": "code",
   "execution_count": 68,
   "id": "cf672db6",
   "metadata": {},
   "outputs": [
    {
     "data": {
      "text/plain": [
       "{'token_usage': {'completion_tokens': 229,\n",
       "  'prompt_tokens': 67,\n",
       "  'total_tokens': 296,\n",
       "  'completion_tokens_details': {'accepted_prediction_tokens': 0,\n",
       "   'audio_tokens': 0,\n",
       "   'reasoning_tokens': 0,\n",
       "   'rejected_prediction_tokens': 0},\n",
       "  'prompt_tokens_details': {'audio_tokens': 0, 'cached_tokens': 0}},\n",
       " 'model_name': 'gpt-4o-2024-08-06',\n",
       " 'system_fingerprint': 'fp_eb9dce56a8',\n",
       " 'finish_reason': 'stop',\n",
       " 'logprobs': None}"
      ]
     },
     "execution_count": 68,
     "metadata": {},
     "output_type": "execute_result"
    }
   ],
   "source": [
    "result.response_metadata"
   ]
  },
  {
   "cell_type": "code",
   "execution_count": 70,
   "id": "05456249",
   "metadata": {},
   "outputs": [],
   "source": [
    "def multiply(a:int, b:int)-> int:\n",
    "    return a*b"
   ]
  },
  {
   "cell_type": "code",
   "execution_count": 71,
   "id": "39c90e22",
   "metadata": {},
   "outputs": [],
   "source": [
    "llm_with_tools = llm.bind_tools([multiply])"
   ]
  },
  {
   "cell_type": "code",
   "execution_count": 72,
   "id": "3bfcbcd2",
   "metadata": {},
   "outputs": [],
   "source": [
    "res = llm_with_tools.invoke([HumanMessage(content=f\"What is 2 multiplied by 3\", name=\"Lance\")])"
   ]
  },
  {
   "cell_type": "code",
   "execution_count": 73,
   "id": "7e218544",
   "metadata": {},
   "outputs": [
    {
     "data": {
      "text/plain": [
       "AIMessage(content='', additional_kwargs={'tool_calls': [{'id': 'call_jiYlBZ7VY89DpMqAoA1qArfm', 'function': {'arguments': '{\"a\":2,\"b\":3}', 'name': 'multiply'}, 'type': 'function'}], 'refusal': None}, response_metadata={'token_usage': {'completion_tokens': 18, 'prompt_tokens': 50, 'total_tokens': 68, 'completion_tokens_details': {'accepted_prediction_tokens': 0, 'audio_tokens': 0, 'reasoning_tokens': 0, 'rejected_prediction_tokens': 0}, 'prompt_tokens_details': {'audio_tokens': 0, 'cached_tokens': 0}}, 'model_name': 'gpt-4o-2024-08-06', 'system_fingerprint': 'fp_eb9dce56a8', 'finish_reason': 'tool_calls', 'logprobs': None}, id='run-1717df4b-c66d-4754-9179-a265b2df7a12-0', tool_calls=[{'name': 'multiply', 'args': {'a': 2, 'b': 3}, 'id': 'call_jiYlBZ7VY89DpMqAoA1qArfm', 'type': 'tool_call'}], usage_metadata={'input_tokens': 50, 'output_tokens': 18, 'total_tokens': 68, 'input_token_details': {'audio': 0, 'cache_read': 0}, 'output_token_details': {'audio': 0, 'reasoning': 0}})"
      ]
     },
     "execution_count": 73,
     "metadata": {},
     "output_type": "execute_result"
    }
   ],
   "source": [
    "res"
   ]
  },
  {
   "cell_type": "code",
   "execution_count": 74,
   "id": "a5236602",
   "metadata": {},
   "outputs": [],
   "source": [
    "res1 = res = llm_with_tools.invoke([HumanMessage(content=f\"How are you\", name=\"Lance\")])"
   ]
  },
  {
   "cell_type": "code",
   "execution_count": 75,
   "id": "bba763f4",
   "metadata": {},
   "outputs": [
    {
     "data": {
      "text/plain": [
       "AIMessage(content=\"I'm just a computer program, so I don't have feelings, but I'm here to help you with whatever you need! How can I assist you today?\", additional_kwargs={'refusal': None}, response_metadata={'token_usage': {'completion_tokens': 32, 'prompt_tokens': 45, 'total_tokens': 77, 'completion_tokens_details': {'accepted_prediction_tokens': 0, 'audio_tokens': 0, 'reasoning_tokens': 0, 'rejected_prediction_tokens': 0}, 'prompt_tokens_details': {'audio_tokens': 0, 'cached_tokens': 0}}, 'model_name': 'gpt-4o-2024-08-06', 'system_fingerprint': 'fp_eb9dce56a8', 'finish_reason': 'stop', 'logprobs': None}, id='run-4e52db11-3179-455e-9c74-97bf377991de-0', usage_metadata={'input_tokens': 45, 'output_tokens': 32, 'total_tokens': 77, 'input_token_details': {'audio': 0, 'cache_read': 0}, 'output_token_details': {'audio': 0, 'reasoning': 0}})"
      ]
     },
     "execution_count": 75,
     "metadata": {},
     "output_type": "execute_result"
    }
   ],
   "source": [
    "res1"
   ]
  },
  {
   "cell_type": "code",
   "execution_count": 78,
   "id": "8e6c8af4",
   "metadata": {},
   "outputs": [],
   "source": [
    "res0 = llm.invoke([HumanMessage(content=f\"What is 2 multiplied by 3\", name=\"Lance\")])"
   ]
  },
  {
   "cell_type": "code",
   "execution_count": 79,
   "id": "5d3f79f7",
   "metadata": {},
   "outputs": [
    {
     "data": {
      "text/plain": [
       "AIMessage(content='2 multiplied by 3 is 6.', additional_kwargs={'refusal': None}, response_metadata={'token_usage': {'completion_tokens': 10, 'prompt_tokens': 17, 'total_tokens': 27, 'completion_tokens_details': {'accepted_prediction_tokens': 0, 'audio_tokens': 0, 'reasoning_tokens': 0, 'rejected_prediction_tokens': 0}, 'prompt_tokens_details': {'audio_tokens': 0, 'cached_tokens': 0}}, 'model_name': 'gpt-4o-2024-08-06', 'system_fingerprint': 'fp_eb9dce56a8', 'finish_reason': 'stop', 'logprobs': None}, id='run-819dd72c-e4d8-4817-ab29-95531f87ae69-0', usage_metadata={'input_tokens': 17, 'output_tokens': 10, 'total_tokens': 27, 'input_token_details': {'audio': 0, 'cache_read': 0}, 'output_token_details': {'audio': 0, 'reasoning': 0}})"
      ]
     },
     "execution_count": 79,
     "metadata": {},
     "output_type": "execute_result"
    }
   ],
   "source": [
    "res0"
   ]
  },
  {
   "cell_type": "code",
   "execution_count": 80,
   "id": "c09e78a4",
   "metadata": {},
   "outputs": [],
   "source": [
    "from typing import Annotated\n",
    "from langgraph.graph.message import add_messages"
   ]
  },
  {
   "cell_type": "code",
   "execution_count": 84,
   "id": "4befa9bf",
   "metadata": {},
   "outputs": [],
   "source": [
    "from langchain_core.messages import AnyMessage"
   ]
  },
  {
   "cell_type": "code",
   "execution_count": 87,
   "id": "1c4818bb",
   "metadata": {},
   "outputs": [],
   "source": [
    "class MessageState(TypedDict):\n",
    "    messages: Annotated[list[AnyMessage], add_messages]\n",
    "        "
   ]
  },
  {
   "cell_type": "code",
   "execution_count": 91,
   "id": "ea56dbcb",
   "metadata": {},
   "outputs": [],
   "source": [
    "from langgraph.graph import MessagesState # both are same"
   ]
  },
  {
   "cell_type": "code",
   "execution_count": 92,
   "id": "dc609325",
   "metadata": {},
   "outputs": [],
   "source": [
    "class MessageState(MessageState):\n",
    "    pass\n"
   ]
  },
  {
   "cell_type": "code",
   "execution_count": null,
   "id": "0d2c5df4",
   "metadata": {},
   "outputs": [],
   "source": [
    "#Steps:\n",
    "\n",
    "# Imports\n",
    "# declare state\n",
    "# declare nodes\n",
    "\n",
    "# build graph\n",
    "# Add logic\n",
    "# compile the graph\n",
    "\n",
    "# view the graph\n",
    "# Invoke the graph"
   ]
  },
  {
   "cell_type": "code",
   "execution_count": 93,
   "id": "13e3f487",
   "metadata": {},
   "outputs": [],
   "source": [
    "chain_builder = StateGraph(MessagesState)\n",
    "\n",
    "def llm_node(state: MessagesState):\n",
    "    return {\"messages\":[llm_with_tools.invoke(state['messages'])]}\n",
    "\n",
    "    "
   ]
  },
  {
   "cell_type": "code",
   "execution_count": 94,
   "id": "b9f6ac35",
   "metadata": {},
   "outputs": [
    {
     "data": {
      "text/plain": [
       "<langgraph.graph.state.StateGraph at 0x1170fd950>"
      ]
     },
     "execution_count": 94,
     "metadata": {},
     "output_type": "execute_result"
    }
   ],
   "source": [
    "chain_builder.add_node(\"llm_node\", llm_node)\n",
    "\n",
    "chain_builder.add_edge(START, \"llm_node\")\n",
    "chain_builder.add_edge(\"llm_node\", END)"
   ]
  },
  {
   "cell_type": "code",
   "execution_count": 96,
   "id": "c51cc596",
   "metadata": {},
   "outputs": [],
   "source": [
    "cgain_gph = chain_builder.compile()"
   ]
  },
  {
   "cell_type": "code",
   "execution_count": 97,
   "id": "ef4ea1d4",
   "metadata": {},
   "outputs": [
    {
     "data": {
      "image/png": "[encoded data removed]",
      "text/plain": [
       "<langgraph.graph.state.CompiledStateGraph object at 0x11722dd50>"
      ]
     },
     "execution_count": 97,
     "metadata": {},
     "output_type": "execute_result"
    }
   ],
   "source": [
    "cgain_gph"
   ]
  },
  {
   "cell_type": "code",
   "execution_count": 101,
   "id": "d48030c9",
   "metadata": {},
   "outputs": [],
   "source": [
    "res_messages = cgain_gph.invoke({\"messages\": HumanMessage(content=\"Hello how are you\")})"
   ]
  },
  {
   "cell_type": "code",
   "execution_count": 103,
   "id": "bcdd905d",
   "metadata": {},
   "outputs": [
    {
     "data": {
      "text/plain": [
       "{'messages': [HumanMessage(content='Hello how are you', additional_kwargs={}, response_metadata={}, id='d8dba066-5d3f-4d50-97f0-635c0ff50952'),\n",
       "  AIMessage(content=\"Hello! I'm just a computer program, so I don't have feelings, but I'm here to help you. How can I assist you today?\", additional_kwargs={'refusal': None}, response_metadata={'token_usage': {'completion_tokens': 30, 'prompt_tokens': 44, 'total_tokens': 74, 'completion_tokens_details': {'accepted_prediction_tokens': 0, 'audio_tokens': 0, 'reasoning_tokens': 0, 'rejected_prediction_tokens': 0}, 'prompt_tokens_details': {'audio_tokens': 0, 'cached_tokens': 0}}, 'model_name': 'gpt-4o-2024-08-06', 'system_fingerprint': 'fp_eb9dce56a8', 'finish_reason': 'stop', 'logprobs': None}, id='run-320eac34-38e4-483d-a321-16c6e953d397-0', usage_metadata={'input_tokens': 44, 'output_tokens': 30, 'total_tokens': 74, 'input_token_details': {'audio': 0, 'cache_read': 0}, 'output_token_details': {'audio': 0, 'reasoning': 0}})]}"
      ]
     },
     "execution_count": 103,
     "metadata": {},
     "output_type": "execute_result"
    }
   ],
   "source": [
    "res_messages"
   ]
  },
  {
   "cell_type": "code",
   "execution_count": 104,
   "id": "5866315f",
   "metadata": {},
   "outputs": [
    {
     "name": "stdout",
     "output_type": "stream",
     "text": [
      "================================\u001b[1m Human Message \u001b[0m=================================\n",
      "\n",
      "Hello how are you\n",
      "==================================\u001b[1m Ai Message \u001b[0m==================================\n",
      "\n",
      "Hello! I'm just a computer program, so I don't have feelings, but I'm here to help you. How can I assist you today?\n"
     ]
    }
   ],
   "source": [
    "for message in res_messages['messages']:\n",
    "    message.pretty_print()"
   ]
  },
  {
   "cell_type": "code",
   "execution_count": 105,
   "id": "238d1ccc",
   "metadata": {},
   "outputs": [],
   "source": [
    "res_messages = cgain_gph.invoke({\"messages\": HumanMessage(content=\"how much is 2 multiply by 10\")})"
   ]
  },
  {
   "cell_type": "code",
   "execution_count": 106,
   "id": "f30185c0",
   "metadata": {},
   "outputs": [
    {
     "data": {
      "text/plain": [
       "{'messages': [HumanMessage(content='how much is 2 multiply by 10', additional_kwargs={}, response_metadata={}, id='414c3ea5-0b59-4f90-bb37-7601f10a0e89'),\n",
       "  AIMessage(content='', additional_kwargs={'tool_calls': [{'id': 'call_OgchRCsoadkUxKMqVEMNDI6r', 'function': {'arguments': '{\"a\":2,\"b\":10}', 'name': 'multiply'}, 'type': 'function'}], 'refusal': None}, response_metadata={'token_usage': {'completion_tokens': 18, 'prompt_tokens': 49, 'total_tokens': 67, 'completion_tokens_details': {'accepted_prediction_tokens': 0, 'audio_tokens': 0, 'reasoning_tokens': 0, 'rejected_prediction_tokens': 0}, 'prompt_tokens_details': {'audio_tokens': 0, 'cached_tokens': 0}}, 'model_name': 'gpt-4o-2024-08-06', 'system_fingerprint': 'fp_eb9dce56a8', 'finish_reason': 'tool_calls', 'logprobs': None}, id='run-dfefb769-56ad-4f1c-8184-b5b8cd4ea8be-0', tool_calls=[{'name': 'multiply', 'args': {'a': 2, 'b': 10}, 'id': 'call_OgchRCsoadkUxKMqVEMNDI6r', 'type': 'tool_call'}], usage_metadata={'input_tokens': 49, 'output_tokens': 18, 'total_tokens': 67, 'input_token_details': {'audio': 0, 'cache_read': 0}, 'output_token_details': {'audio': 0, 'reasoning': 0}})]}"
      ]
     },
     "execution_count": 106,
     "metadata": {},
     "output_type": "execute_result"
    }
   ],
   "source": [
    "res_messages"
   ]
  },
  {
   "cell_type": "code",
   "execution_count": 107,
   "id": "71e05049",
   "metadata": {},
   "outputs": [
    {
     "name": "stdout",
     "output_type": "stream",
     "text": [
      "================================\u001b[1m Human Message \u001b[0m=================================\n",
      "\n",
      "how much is 2 multiply by 10\n",
      "==================================\u001b[1m Ai Message \u001b[0m==================================\n",
      "Tool Calls:\n",
      "  multiply (call_OgchRCsoadkUxKMqVEMNDI6r)\n",
      " Call ID: call_OgchRCsoadkUxKMqVEMNDI6r\n",
      "  Args:\n",
      "    a: 2\n",
      "    b: 10\n"
     ]
    }
   ],
   "source": [
    "for message in res_messages['messages']:\n",
    "    message.pretty_print()"
   ]
  },
  {
   "cell_type": "code",
   "execution_count": null,
   "id": "2b226541",
   "metadata": {},
   "outputs": [],
   "source": []
  },
  {
   "cell_type": "code",
   "execution_count": null,
   "id": "b0a78ef8",
   "metadata": {},
   "outputs": [],
   "source": []
  },
  {
   "cell_type": "code",
   "execution_count": null,
   "id": "e5de22df",
   "metadata": {},
   "outputs": [],
   "source": []
  },
  {
   "cell_type": "markdown",
   "id": "d29f35e3",
   "metadata": {},
   "source": [
    "# Router"
   ]
  },
  {
   "cell_type": "code",
   "execution_count": 125,
   "id": "4b3de2d2",
   "metadata": {},
   "outputs": [],
   "source": [
    "def multiply(a: int, b: int) -> int:\n",
    "    \"\"\"Multiply a and b.\n",
    "\n",
    "    Args:\n",
    "        a: first int\n",
    "        b: second int\n",
    "    \"\"\"\n",
    "    return a * b"
   ]
  },
  {
   "cell_type": "code",
   "execution_count": 126,
   "id": "04d5d985",
   "metadata": {},
   "outputs": [],
   "source": [
    "llm_with_tools = llm.bind_tools([multiply])"
   ]
  },
  {
   "cell_type": "code",
   "execution_count": 127,
   "id": "19334fae",
   "metadata": {},
   "outputs": [],
   "source": [
    "from langgraph.prebuilt import ToolNode, tools_condition"
   ]
  },
  {
   "cell_type": "code",
   "execution_count": 128,
   "id": "4d363059",
   "metadata": {},
   "outputs": [],
   "source": [
    "def tool_llm_calling(state):\n",
    "    return {\"messages\": [llm_with_tools.invoke(state[\"messages\"])]}"
   ]
  },
  {
   "cell_type": "code",
   "execution_count": 129,
   "id": "5931a927",
   "metadata": {},
   "outputs": [],
   "source": [
    "rou_builder = StateGraph(MessagesState)\n",
    "\n",
    "rou_builder.add_node(\"tool_llm_calling\",tool_llm_calling)\n",
    "rou_builder.add_node(\"tools\", ToolNode([multiply]))\n",
    "\n",
    "rou_builder.add_edge(START, \"tool_llm_calling\")\n",
    "rou_builder.add_conditional_edges(\"tool_llm_calling\",\n",
    "                                 tools_condition)\n",
    "\n",
    "rou_builder.add_edge(\"tools\", END)\n",
    "\n",
    "rou_graph = rou_builder.compile()"
   ]
  },
  {
   "cell_type": "code",
   "execution_count": 130,
   "id": "ae7d2144",
   "metadata": {},
   "outputs": [
    {
     "data": {
      "image/png": "[encoded data removed]",
      "text/plain": [
       "<langgraph.graph.state.CompiledStateGraph object at 0x11659ad50>"
      ]
     },
     "execution_count": 130,
     "metadata": {},
     "output_type": "execute_result"
    }
   ],
   "source": [
    "rou_graph"
   ]
  },
  {
   "cell_type": "code",
   "execution_count": null,
   "id": "015bcf9b",
   "metadata": {},
   "outputs": [],
   "source": []
  },
  {
   "cell_type": "code",
   "execution_count": 141,
   "id": "8084acc8",
   "metadata": {},
   "outputs": [],
   "source": [
    "messages = HumanMessage(content=\"how much is 2 multiply by 10\")\n",
    "#messages = [HumanMessage(content=\"Hello world.\")]\n",
    "rou_messaegs = rou_graph.invoke({\"messages\":messages})"
   ]
  },
  {
   "cell_type": "code",
   "execution_count": 142,
   "id": "17e9709d",
   "metadata": {},
   "outputs": [
    {
     "name": "stdout",
     "output_type": "stream",
     "text": [
      "================================\u001b[1m Human Message \u001b[0m=================================\n",
      "\n",
      "how much is 2 multiply by 10\n",
      "==================================\u001b[1m Ai Message \u001b[0m==================================\n",
      "Tool Calls:\n",
      "  multiply (call_RK7C5LDWhZS4Yj5TvEohj8xH)\n",
      " Call ID: call_RK7C5LDWhZS4Yj5TvEohj8xH\n",
      "  Args:\n",
      "    a: 2\n",
      "    b: 10\n",
      "=================================\u001b[1m Tool Message \u001b[0m=================================\n",
      "Name: multiply\n",
      "\n",
      "20\n"
     ]
    }
   ],
   "source": [
    "for message in rou_messaegs['messages']:\n",
    "    message.pretty_print()"
   ]
  },
  {
   "cell_type": "code",
   "execution_count": null,
   "id": "d0cbb3fc",
   "metadata": {},
   "outputs": [],
   "source": []
  },
  {
   "cell_type": "code",
   "execution_count": null,
   "id": "a07a5c71",
   "metadata": {},
   "outputs": [],
   "source": []
  },
  {
   "cell_type": "code",
   "execution_count": null,
   "id": "8f972d76",
   "metadata": {},
   "outputs": [],
   "source": []
  },
  {
   "cell_type": "markdown",
   "id": "87ce3387",
   "metadata": {},
   "source": [
    "# Agent"
   ]
  },
  {
   "cell_type": "code",
   "execution_count": 143,
   "id": "1bc566ad",
   "metadata": {},
   "outputs": [],
   "source": [
    "def multiply(a: int, b: int) -> int:\n",
    "    \"\"\"Multiply a and b.\n",
    "\n",
    "    Args:\n",
    "        a: first int\n",
    "        b: second int\n",
    "    \"\"\"\n",
    "    return a * b\n",
    "\n",
    "# This will be a tool\n",
    "def add(a: int, b: int) -> int:\n",
    "    \"\"\"Adds a and b.\n",
    "\n",
    "    Args:\n",
    "        a: first int\n",
    "        b: second int\n",
    "    \"\"\"\n",
    "    return a + b\n",
    "\n",
    "def divide(a: int, b: int) -> float:\n",
    "    \"\"\"Divide a and b.\n",
    "\n",
    "    Args:\n",
    "        a: first int\n",
    "        b: second int\n",
    "    \"\"\"\n",
    "    return a / b\n"
   ]
  },
  {
   "cell_type": "code",
   "execution_count": 144,
   "id": "6256ed29",
   "metadata": {},
   "outputs": [],
   "source": [
    "tools = [add, multiply, divide]"
   ]
  },
  {
   "cell_type": "code",
   "execution_count": 145,
   "id": "88aa664c",
   "metadata": {},
   "outputs": [],
   "source": [
    "llm_with_all_tools = llm.bind_tools(tools=tools)"
   ]
  },
  {
   "cell_type": "code",
   "execution_count": 147,
   "id": "1a7f3086",
   "metadata": {},
   "outputs": [],
   "source": [
    "sys_msg = SystemMessage(content=\"You are a helpful assistant tasked with performing arithmetic on a set of inputs.\")"
   ]
  },
  {
   "cell_type": "code",
   "execution_count": 148,
   "id": "86443fdf",
   "metadata": {},
   "outputs": [],
   "source": [
    "#state is already defined\n",
    "\n",
    "#node\n",
    "\n",
    "def assistant(state: MessageState):\n",
    "    return {\"messages\": llm_with_all_tools.invoke([sys_msg] + state['messages'])}"
   ]
  },
  {
   "cell_type": "code",
   "execution_count": 149,
   "id": "f14cb052",
   "metadata": {},
   "outputs": [],
   "source": [
    "#Steps:\n",
    "\n",
    "# Imports\n",
    "# declare state\n",
    "# declare nodes\n",
    "\n",
    "# build graph\n",
    "# Add logic\n",
    "# compile the graph\n",
    "\n",
    "# view the graph\n",
    "# Invoke the graph"
   ]
  },
  {
   "cell_type": "code",
   "execution_count": 152,
   "id": "85f97da2",
   "metadata": {},
   "outputs": [],
   "source": [
    "agent_builder = StateGraph(MessagesState)\n",
    "\n",
    "agent_builder.add_node(\"assistant\",assistant)\n",
    "agent_builder.add_node(\"tools\", ToolNode(tools))\n",
    "\n",
    "agent_builder.add_edge(START, \"assistant\")\n",
    "agent_builder.add_conditional_edges(\"assistant\",\n",
    "                                   tools_condition)\n",
    "agent_builder.add_edge(\"tools\", \"assistant\")\n",
    "\n",
    "agent_graph = agent_builder.compile()"
   ]
  },
  {
   "cell_type": "code",
   "execution_count": 153,
   "id": "9f01577a",
   "metadata": {},
   "outputs": [
    {
     "data": {
      "image/png": "[encoded data removed]",
      "text/plain": [
       "<langgraph.graph.state.CompiledStateGraph object at 0x117af0a10>"
      ]
     },
     "execution_count": 153,
     "metadata": {},
     "output_type": "execute_result"
    }
   ],
   "source": [
    "agent_graph"
   ]
  },
  {
   "cell_type": "code",
   "execution_count": 155,
   "id": "9ad5a876",
   "metadata": {},
   "outputs": [],
   "source": [
    "messages = HumanMessage(content=\"Add 3 and 4. Multiply the output by 2. Divide the output by 5\")\n",
    "\n",
    "res_messages = agent_graph.invoke({\"messages\":messages})\n"
   ]
  },
  {
   "cell_type": "code",
   "execution_count": 157,
   "id": "3a748655",
   "metadata": {},
   "outputs": [
    {
     "name": "stdout",
     "output_type": "stream",
     "text": [
      "================================\u001b[1m Human Message \u001b[0m=================================\n",
      "\n",
      "Add 3 and 4. Multiply the output by 2. Divide the output by 5\n",
      "==================================\u001b[1m Ai Message \u001b[0m==================================\n",
      "Tool Calls:\n",
      "  add (call_xjMhoDy8ZEh1XD69ca3zxSZe)\n",
      " Call ID: call_xjMhoDy8ZEh1XD69ca3zxSZe\n",
      "  Args:\n",
      "    a: 3\n",
      "    b: 4\n",
      "  multiply (call_LKU3UTdN8b0Zf1DMy3f1OOmz)\n",
      " Call ID: call_LKU3UTdN8b0Zf1DMy3f1OOmz\n",
      "  Args:\n",
      "    a: 7\n",
      "    b: 2\n",
      "=================================\u001b[1m Tool Message \u001b[0m=================================\n",
      "Name: add\n",
      "\n",
      "7\n",
      "=================================\u001b[1m Tool Message \u001b[0m=================================\n",
      "Name: multiply\n",
      "\n",
      "14\n",
      "==================================\u001b[1m Ai Message \u001b[0m==================================\n",
      "Tool Calls:\n",
      "  divide (call_L4McTY39EK4RZ5UzlOdstKaV)\n",
      " Call ID: call_L4McTY39EK4RZ5UzlOdstKaV\n",
      "  Args:\n",
      "    a: 14\n",
      "    b: 5\n",
      "=================================\u001b[1m Tool Message \u001b[0m=================================\n",
      "Name: divide\n",
      "\n",
      "2.8\n",
      "==================================\u001b[1m Ai Message \u001b[0m==================================\n",
      "\n",
      "The final result after adding 3 and 4, multiplying the sum by 2, and then dividing the product by 5 is 2.8.\n"
     ]
    }
   ],
   "source": [
    "for message in res_messages['messages']:\n",
    "    message.pretty_print()"
   ]
  },
  {
   "cell_type": "code",
   "execution_count": null,
   "id": "cfbc9868",
   "metadata": {},
   "outputs": [],
   "source": []
  },
  {
   "cell_type": "code",
   "execution_count": null,
   "id": "1e17a3f4",
   "metadata": {},
   "outputs": [],
   "source": []
  },
  {
   "cell_type": "markdown",
   "id": "bcbf8d1c",
   "metadata": {},
   "source": [
    "# Agent_memory"
   ]
  },
  {
   "cell_type": "markdown",
   "id": "f87bdb57",
   "metadata": {},
   "source": [
    "# To persist the previous converstaion or intractions in the AI applictaions LangGraph use the concept of memory saver and it intiates and uses in the StateGraph and use the same in the graph compile to retrive the same information"
   ]
  },
  {
   "cell_type": "code",
   "execution_count": null,
   "id": "70949a8f",
   "metadata": {},
   "outputs": [],
   "source": [
    "config = {\"configurable\": {\"thread_id\": \"1\"}}\n",
    "\n",
    "# Specify an input\n",
    "messages = [HumanMessage(content=\"Add 3 and 4.\")]\n",
    "\n",
    "# Run\n",
    "messages = react_graph_memory.invoke({\"messages\": messages},config)\n",
    "for m in messages['messages']:\n",
    "    m.pretty_print()"
   ]
  },
  {
   "cell_type": "markdown",
   "id": "70171dc3",
   "metadata": {},
   "source": [
    "Passing the same config in next iteration or interatcion or conversation so it reminds the pervious state values"
   ]
  },
  {
   "cell_type": "code",
   "execution_count": null,
   "id": "97b2f795",
   "metadata": {},
   "outputs": [],
   "source": [
    "messages = [HumanMessage(content=\"Multiply that by 2.\")]\n",
    "messages = react_graph_memory.invoke({\"messages\": messages}, config)\n",
    "for m in messages['messages']:\n",
    "    m.pretty_print()"
   ]
  },
  {
   "cell_type": "code",
   "execution_count": null,
   "id": "20060c3e",
   "metadata": {},
   "outputs": [],
   "source": []
  },
  {
   "cell_type": "markdown",
   "id": "6c4809a8",
   "metadata": {},
   "source": [
    "# explore more bout the memory and its usage in production"
   ]
  },
  {
   "cell_type": "code",
   "execution_count": null,
   "id": "799cf554",
   "metadata": {},
   "outputs": [],
   "source": []
  }
 ],
 "metadata": {
  "kernelspec": {
   "display_name": "Python 3 (ipykernel)",
   "language": "python",
   "name": "python3"
  },
  "language_info": {
   "codemirror_mode": {
    "name": "ipython",
    "version": 3
   },
   "file_extension": ".py",
   "mimetype": "text/x-python",
   "name": "python",
   "nbconvert_exporter": "python",
   "pygments_lexer": "ipython3",
   "version": "3.11.5"
  }
 },
 "nbformat": 4,
 "nbformat_minor": 5
}
